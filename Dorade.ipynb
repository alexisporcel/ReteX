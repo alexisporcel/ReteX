{
  "nbformat": 4,
  "nbformat_minor": 0,
  "metadata": {
    "colab": {
      "provenance": [],
      "include_colab_link": true
    },
    "kernelspec": {
      "name": "python3",
      "display_name": "Python 3"
    },
    "language_info": {
      "name": "python"
    }
  },
  "cells": [
    {
      "cell_type": "markdown",
      "metadata": {
        "id": "view-in-github",
        "colab_type": "text"
      },
      "source": [
        "<a href=\"https://colab.research.google.com/github/alexisporcel/ReteX/blob/main/Dorade.ipynb\" target=\"_parent\"><img src=\"https://colab.research.google.com/assets/colab-badge.svg\" alt=\"Open In Colab\"/></a>"
      ]
    },
    {
      "cell_type": "markdown",
      "source": [
        "# Data"
      ],
      "metadata": {
        "id": "ipiGdNCalTjv"
      }
    },
    {
      "cell_type": "code",
      "execution_count": null,
      "metadata": {
        "id": "DcYRl2rNxwkZ",
        "colab": {
          "base_uri": "https://localhost:8080/"
        },
        "outputId": "895656f1-b8eb-49b5-c3f6-dc1eca2e5b4d"
      },
      "outputs": [
        {
          "output_type": "stream",
          "name": "stdout",
          "text": [
            "Index(['Time:500Hz', 'Epoch', 'Fp1', 'Fp2', 'F7', 'F3', 'Fz', 'F4', 'F8',\n",
            "       'FC5', 'FC1', 'FC2', 'FC6', 'T7', 'C3', 'Cz', 'C4', 'T8', 'TP9', 'CP5',\n",
            "       'CP1', 'CP2', 'CP6', 'TP10', 'P7', 'P3', 'Pz', 'P4', 'P8', 'PO9', 'O1',\n",
            "       'Oz', 'O2', 'PO10', 'Event Id', 'Event Date', 'Event Duration'],\n",
            "      dtype='object')\n",
            "frequency = 500 and duration = 250\n",
            "37\n"
          ]
        }
      ],
      "source": [
        "import pandas as pd\n",
        "import numpy as np\n",
        "import matplotlib.pyplot as plt\n",
        "\n",
        "\n",
        "# load the data\n",
        "data = pd.read_table(\"4_1_23_v1.csv\", delimiter=\",\", index_col=False, low_memory=False)\n",
        "print(data.columns)\n",
        "del data['Epoch']\n",
        "\n",
        "# frequency of acquisition\n",
        "frequency = int(data.columns[0][5:8])\n",
        "duration = int(0.5*frequency)\n",
        "print('frequency =', frequency, 'and duration =', duration)\n",
        "\n",
        "dataWithMarker = data[~data['Event Id'].isnull()]\n",
        "\n",
        "print(len(dataWithMarker['Event Id']))\n",
        "\n",
        "errorIndex = dataWithMarker.loc[dataWithMarker['Event Id'].str.contains('1')].index.tolist()\n",
        "nonErrorIndex = dataWithMarker.loc[dataWithMarker['Event Id'].str.contains('0')].index.tolist()\n",
        "\n",
        "# ErrorAcquisition=[acquisition]\n",
        "# acquisition = [[time],[channel1],[channel2],...]\n",
        "\n",
        "ErrorAcquisition = []\n",
        "for index in errorIndex:\n",
        "    list = data.iloc[index - duration // 2:index + duration // 2][data.columns[0:33]].values.tolist()\n",
        "    ErrorAcquisition.append(np.array(list).T.tolist())\n",
        "\n",
        "nonErrorAcquisition = []\n",
        "for index in nonErrorIndex:\n",
        "    list = data.iloc[index - duration // 2:index + duration // 2][data.columns[0:33]].values.tolist()\n",
        "    nonErrorAcquisition.append(np.array(list).T.tolist())\n",
        "\n",
        "reference = [ErrorAcquisition[0][0]]\n",
        "\n",
        "for j in range(1, len(ErrorAcquisition[0])):\n",
        "    reference.append(\n",
        "        (np.mean(np.array([ErrorAcquisition[i][j] for i in range(len(ErrorAcquisition))]), axis=0)).tolist())\n",
        "\n",
        "\n",
        "def Error():\n",
        "    return ErrorAcquisition\n",
        "\n",
        "\n",
        "def nonError():\n",
        "    return nonErrorAcquisition\n",
        "\n",
        "\n",
        "def reference():\n",
        "    return reference\n"
      ]
    },
    {
      "cell_type": "markdown",
      "source": [
        "# Vecteurs"
      ],
      "metadata": {
        "id": "wLwEdD9yJ77f"
      }
    },
    {
      "cell_type": "code",
      "source": [
        "def acquisition_vector(acqui):\n",
        "  ##Renvoie la matrice des feature vectors des 32 électrodes pour 1 acquisition\n",
        "  lg=len(acqui)\n",
        "  vec=[]\n",
        "  for i in range (1,lg):\n",
        "    electrode=acqui[i]\n",
        "    minimum=min(electrode)\n",
        "    maximum=max(electrode)\n",
        "    moy=np.mean(electrode)\n",
        "    ecartt=np.std(electrode)\n",
        "    vector_param=[minimum,maximum,moy,ecartt]\n",
        "    vec.append(vector_param)\n",
        "  return vec\n",
        "\n"
      ],
      "metadata": {
        "id": "BUzp4EMh3cil"
      },
      "execution_count": null,
      "outputs": []
    },
    {
      "cell_type": "code",
      "source": [
        "def Experiment_vector(experiment) : \n",
        "  ##renvoie un tableau des acquisition_vector (cad des matrices des feature vectors des 32 electrodes)\n",
        "    exp_vec = []\n",
        "    for i in range(len(experiment)): \n",
        "      exp_vec.append(acquisition_vector(experiment[i]))\n",
        "    return exp_vec\n"
      ],
      "metadata": {
        "id": "Bzyp6jPktekn"
      },
      "execution_count": null,
      "outputs": []
    },
    {
      "cell_type": "code",
      "source": [
        "Experiment_vector(Error())"
      ],
      "metadata": {
        "id": "3bXhEE_0-IAl"
      },
      "execution_count": null,
      "outputs": []
    },
    {
      "cell_type": "code",
      "source": [
        "def Error_indexation(experiment_vec) : \n",
        "  ##ajoute un string 'Error' à la fin d'un acquisition_vector pour lui donner un label Error \n",
        "  for i in range(len(experiment_vec)) : \n",
        "    experiment_vec[i].append('Error')\n",
        "  return experiment_vec"
      ],
      "metadata": {
        "id": "4PBoE3_hwASX"
      },
      "execution_count": null,
      "outputs": []
    },
    {
      "cell_type": "code",
      "source": [
        "def Non_Error_indexation(experiment_vec) : \n",
        "  ##ajoute un string 'Error' à la fin d'un acquisition_vector pour lui donner un label Success\n",
        "  for i in range(len(experiment_vec)) : \n",
        "    experiment_vec[i].append('Success')\n",
        "  return experiment_vec"
      ],
      "metadata": {
        "id": "zJNmUGpAw0el"
      },
      "execution_count": null,
      "outputs": []
    },
    {
      "cell_type": "code",
      "source": [
        "Error_indexation(Experiment_vector(Error()))"
      ],
      "metadata": {
        "id": "zuQvcbEGwiIM"
      },
      "execution_count": null,
      "outputs": []
    },
    {
      "cell_type": "code",
      "source": [
        "data = Error_indexation(Experiment_vector(Error())) + Non_Error_indexation(Experiment_vector(nonError()))\n",
        "#concatenation des données Erreur et Succes\n",
        "print(data)"
      ],
      "metadata": {
        "id": "fu-Gf8YJxcgT"
      },
      "execution_count": null,
      "outputs": []
    },
    {
      "cell_type": "code",
      "source": [
        "import random\n",
        "\n",
        "random.shuffle(data)\n",
        "#Mélanger le set de données Erreur+Succes\n"
      ],
      "metadata": {
        "id": "xHzDhBelyJyy"
      },
      "execution_count": null,
      "outputs": []
    },
    {
      "cell_type": "code",
      "source": [
        "def separation(data):\n",
        "  #Sépare les acquisition_vector de leur label : renvoie un tableau de deux tableaux\n",
        "  raw_data = []\n",
        "  label = []\n",
        "  for i in range(len(data)) : \n",
        "    raw_data.append(data[i][0:-1])\n",
        "    if data[i][-1]=='Error' : \n",
        "      label.append(1)\n",
        "    else : \n",
        "      label.append(0)\n",
        "  return [raw_data,label]\n",
        "    \n"
      ],
      "metadata": {
        "id": "g13WE_8JzZc7"
      },
      "execution_count": null,
      "outputs": []
    },
    {
      "cell_type": "code",
      "source": [
        "print(data)"
      ],
      "metadata": {
        "id": "p0_izUcj1O0f"
      },
      "execution_count": null,
      "outputs": []
    },
    {
      "cell_type": "code",
      "source": [
        "raw_data, label=separation(data)"
      ],
      "metadata": {
        "id": "66w462sI01Xy"
      },
      "execution_count": null,
      "outputs": []
    },
    {
      "cell_type": "code",
      "source": [
        "def averaged_vector(raw_data) : \n",
        "  ##Fait un vecteur moyen des 32 électrodes de 1 acquisition : renvoie une liste des vecteurs moyens de chaque acquisition\n",
        "  raw_data_bis=[]\n",
        "  for acquisition in raw_data : \n",
        "    vector_acquisition = []\n",
        "    for j in range(4) : \n",
        "      sum=0\n",
        "      for i in range(len(acquisition)) : \n",
        "        sum+=acquisition[i][j]\n",
        "      sum = sum/(len(acquisition))\n",
        "      vector_acquisition.append(sum)\n",
        "    raw_data_bis.append(vector_acquisition)\n",
        "  return raw_data_bis\n"
      ],
      "metadata": {
        "id": "D4U3vBxi3AJk"
      },
      "execution_count": null,
      "outputs": []
    },
    {
      "cell_type": "code",
      "source": [
        "averaged_raw_data = averaged_vector(raw_data)"
      ],
      "metadata": {
        "id": "aKz-GMBS6T-q"
      },
      "execution_count": null,
      "outputs": []
    },
    {
      "cell_type": "markdown",
      "source": [
        "\n",
        "  # SVM"
      ],
      "metadata": {
        "id": "82jI5fRb2DtR"
      }
    },
    {
      "cell_type": "code",
      "source": [
        "# import required libraries\n",
        "from sklearn import svm\n",
        "from sklearn.model_selection import train_test_split\n",
        "from sklearn.metrics import accuracy_score\n",
        "\n",
        "\n",
        "# load dataset\n",
        "\n",
        "\n",
        "# split dataset into training and testing sets\n",
        "X_train, X_test, y_train, y_test = train_test_split(averaged_raw_data, label, test_size=0.2, random_state=42)\n",
        "\n",
        "# create an SVM classifier with linear kernel\n",
        "clf_linear = svm.SVC(kernel='linear')\n",
        "\n",
        "# train the classifier on the training set\n",
        "clf_linear.fit(X_train, y_train)\n",
        "\n",
        "# predict the labels of the test set\n",
        "y_pred_linear = clf_linear.predict(X_test)\n",
        "\n",
        "# calculate the accuracy of the classifier\n",
        "accuracy_linear = accuracy_score(y_test, y_pred_linear)\n",
        "print(\"Accuracy with linear kernel:\", accuracy_linear)\n",
        "\n",
        "# create an SVM classifier with RBF kernel\n",
        "clf_rbf = svm.SVC(kernel='rbf')\n",
        "\n",
        "# train the classifier on the training set\n",
        "clf_rbf.fit(X_train, y_train) \n",
        "\n",
        "# predict the labels of the test set\n",
        "y_pred_rbf = clf_rbf.predict(X_test)\n",
        "\n",
        "# calculate the accuracy of the classifier\n",
        "accuracy_rbf = accuracy_score(y_test, y_pred_rbf)\n",
        "print(\"Accuracy with RBF kernel:\", accuracy_rbf)\n"
      ],
      "metadata": {
        "id": "vSsv82NN2M7M",
        "colab": {
          "base_uri": "https://localhost:8080/"
        },
        "outputId": "8b12b828-4858-4c5b-b4a6-548a3245219c"
      },
      "execution_count": null,
      "outputs": [
        {
          "output_type": "stream",
          "name": "stdout",
          "text": [
            "Accuracy with linear kernel: 0.8387096774193549\n",
            "Accuracy with RBF kernel: 0.8387096774193549\n"
          ]
        }
      ]
    },
    {
      "cell_type": "code",
      "source": [
        "import matplotlib.pyplot as plt\n",
        "from sklearn import svm, datasets\n",
        "\n",
        "# import some data to play with\n",
        "iris = datasets.load_iris()\n",
        "X = iris.data[:, :2]  # we only take the first two features. We could\n",
        "                      # avoid this ugly slicing by using a two-dim dataset\n",
        "y = iris.target\n",
        "\n",
        "h = .02  # step size in the mesh\n",
        "\n",
        "# we create an instance of SVM and fit out data. We do not scale our\n",
        "# data since we want to plot the support vectors\n",
        "C = 1.0  # SVM regularization parameter\n",
        "svc = svm.SVC(kernel='linear', C=C).fit(X, y)\n",
        "rbf_svc = svm.SVC(kernel='rbf', gamma=0.7, C=C).fit(X, y)\n",
        "poly_svc = svm.SVC(kernel='poly', degree=3, C=C).fit(X, y)\n",
        "lin_svc = svm.LinearSVC(C=C).fit(X, y)\n",
        "\n",
        "# create a mesh to plot in\n",
        "x_min, x_max = X[:, 0].min() - 1, X[:, 0].max() + 1\n",
        "y_min, y_max = X[:, 1].min() - 1, X[:, 1].max() + 1\n",
        "xx, yy = np.meshgrid(np.arange(x_min, x_max, h),\n",
        "                     np.arange(y_min, y_max, h))\n",
        "\n",
        "# title for the plots\n",
        "titles = ['SVC with linear kernel',\n",
        "          'LinearSVC (linear kernel)',\n",
        "          'SVC with RBF kernel',\n",
        "          'SVC with polynomial (degree 3) kernel']\n",
        "\n",
        "\n",
        "for i, clf in enumerate((svc, lin_svc, rbf_svc, poly_svc)):\n",
        "    # Plot the decision boundary. For that, we will assign a color to each\n",
        "    # point in the mesh [x_min, x_max]x[y_min, y_max].\n",
        "    plt.subplot(2, 2, i + 1)\n",
        "    plt.subplots_adjust(wspace=0.4, hspace=0.4)\n",
        "\n",
        "    Z = clf.predict(np.c_[xx.ravel(), yy.ravel()])\n",
        "\n",
        "    # Put the result into a color plot\n",
        "    Z = Z.reshape(xx.shape)\n",
        "    plt.contourf(xx, yy, Z, cmap=plt.cm.coolwarm, alpha=0.8)\n",
        "\n",
        "    # Plot also the training points\n",
        "    plt.scatter(X[:, 0], X[:, 1], c=y, cmap=plt.cm.coolwarm)\n",
        "    plt.xlabel('Sepal length')\n",
        "    plt.ylabel('Sepal width')\n",
        "    plt.xlim(xx.min(), xx.max())\n",
        "    plt.ylim(yy.min(), yy.max())\n",
        "    plt.xticks(())\n",
        "    plt.yticks(())\n",
        "    plt.title(titles[i])\n",
        "\n",
        "plt.show()"
      ],
      "metadata": {
        "id": "Ng4O5hBVIQwX",
        "colab": {
          "base_uri": "https://localhost:8080/",
          "height": 337
        },
        "outputId": "1f5a66fd-1fe3-4ca8-8c10-8ae02edf3ddc"
      },
      "execution_count": null,
      "outputs": [
        {
          "output_type": "stream",
          "name": "stderr",
          "text": [
            "/usr/local/lib/python3.9/dist-packages/sklearn/svm/_base.py:1244: ConvergenceWarning: Liblinear failed to converge, increase the number of iterations.\n",
            "  warnings.warn(\n"
          ]
        },
        {
          "output_type": "display_data",
          "data": {
            "text/plain": [
              "<Figure size 432x288 with 4 Axes>"
            ],
            "image/png": "[encoded data removed]"
          },
          "metadata": {}
        }
      ]
    },
    {
      "cell_type": "markdown",
      "source": [
        "# Classification par Offset"
      ],
      "metadata": {
        "id": "PKJLyco_iSzX"
      }
    },
    {
      "cell_type": "code",
      "source": [
        "Error_data_feature_vectors = averaged_vector(Experiment_vector(Error()))\n",
        "Non_Error_data_feature_vectors =  averaged_vector(Experiment_vector(nonError()))\n"
      ],
      "metadata": {
        "id": "gS3zuzXL6Sp-"
      },
      "execution_count": null,
      "outputs": []
    },
    {
      "cell_type": "code",
      "source": [
        "def AFV(feature_vectors) :\n",
        "  #renvoie le Averaged Feature Vector : renvoie la moyenne des feature_vector à partir de toutes les acquisitions \n",
        "  AFV=[] \n",
        "  for i in range(4) :\n",
        "    sum=0\n",
        "    for j in range(len(feature_vectors)) : \n",
        "      sum+=feature_vectors[j][i]\n",
        "    AFV.append(sum/len(feature_vectors))\n",
        "  return AFV\n",
        "    "
      ],
      "metadata": {
        "id": "VxZ31OJ7ic4J"
      },
      "execution_count": null,
      "outputs": []
    },
    {
      "cell_type": "code",
      "source": [
        "Error_AFVector = AFV(Error_data_feature_vectors)\n",
        "Non_Error_AFVector = AFV(Non_Error_data_feature_vectors)"
      ],
      "metadata": {
        "id": "RtwuUsQupKub"
      },
      "execution_count": null,
      "outputs": []
    },
    {
      "cell_type": "code",
      "source": [
        "def distance_to_AFV(featured_vector, AFVector):\n",
        "  a1 = np.array(featured_vector)\n",
        "  a2 = np.array(AFVector) \n",
        "  return np.linalg.norm(a1-a2,2)\n"
      ],
      "metadata": {
        "id": "cwJ3konWqCE9"
      },
      "execution_count": null,
      "outputs": []
    },
    {
      "cell_type": "code",
      "source": [
        "def distance_table(FV_table, AFVector) : \n",
        "  distance_table = []\n",
        "  for i in range(len(FV_table)):\n",
        "    distance_table.append(distance_to_AFV(FV_table[i],AFVector))\n",
        "  return distance_table\n"
      ],
      "metadata": {
        "id": "UD7zu5rJtHv_"
      },
      "execution_count": null,
      "outputs": []
    },
    {
      "cell_type": "code",
      "source": [
        "Error_distance_table = distance_table(Error_data_feature_vectors,Non_Error_AFVector)\n",
        "Non_Error_distance_table = distance_table(Non_Error_data_feature_vectors, Non_Error_AFVector)"
      ],
      "metadata": {
        "id": "2ITkw5YwtyRW"
      },
      "execution_count": null,
      "outputs": []
    },
    {
      "cell_type": "code",
      "source": [
        "print(np.mean(Error_distance_table))"
      ],
      "metadata": {
        "colab": {
          "base_uri": "https://localhost:8080/"
        },
        "id": "buyqEWh8uo1Z",
        "outputId": "188054c4-fb84-4a19-df9f-ccec1250def4"
      },
      "execution_count": null,
      "outputs": [
        {
          "output_type": "stream",
          "name": "stdout",
          "text": [
            "109.88070523305817\n"
          ]
        }
      ]
    },
    {
      "cell_type": "code",
      "source": [
        "y1=np.zeros_like(Error_distance_table)\n",
        "y2=np.zeros_like(Non_Error_distance_table)\n",
        "plt.plot(Error_distance_table, ls='dotted', c='red')\n",
        "plt.plot(Non_Error_distance_table,ls='dotted', c='green')\n",
        "plt.show() "
      ],
      "metadata": {
        "colab": {
          "base_uri": "https://localhost:8080/",
          "height": 265
        },
        "id": "xVXgZ_B90KYD",
        "outputId": "eee638b7-6ef2-4842-859e-65e404426297"
      },
      "execution_count": null,
      "outputs": [
        {
          "output_type": "display_data",
          "data": {
            "text/plain": [
              "<Figure size 432x288 with 1 Axes>"
            ],
            "image/png": "[encoded data removed]"
          },
          "metadata": {
            "needs_background": "light"
          }
        }
      ]
    },
    {
      "cell_type": "code",
      "source": [
        "print(np.mean(Non_Error_distance_table))"
      ],
      "metadata": {
        "colab": {
          "base_uri": "https://localhost:8080/"
        },
        "id": "X2qPbxzGvw9z",
        "outputId": "c0b19888-aeae-4379-b614-800c8fa24956"
      },
      "execution_count": null,
      "outputs": [
        {
          "output_type": "stream",
          "name": "stdout",
          "text": [
            "108.02382489112202\n"
          ]
        }
      ]
    },
    {
      "cell_type": "markdown",
      "source": [
        "Conclusion : Une approche \"naïve\" en essayant de trouver un écart à l'AFV n'est pas concluant car nous n'arrivons pas à scinder deux groupes distincts de données afin de classifier en Succès ou Erreur. Il faut une méthode dynamique qui s'adapte en fonction des résultats, comme par exemple SVM. "
      ],
      "metadata": {
        "id": "IM4EsPx7zUzY"
      }
    },
    {
      "cell_type": "markdown",
      "source": [
        "# Filtrage"
      ],
      "metadata": {
        "id": "yVUHBrx4lJra"
      }
    },
    {
      "cell_type": "code",
      "source": [
        "import scipy\n",
        "import numpy as np\n",
        "import csv\n",
        "import sys\n",
        "import os\n",
        "from numpy.fft import fft, fftfreq, ifft\n",
        "import matplotlib.pyplot as plt\n",
        "\n",
        "\n",
        "\n",
        "\n",
        "# Convertit le fichier csv en tableau2D python (les 2 premieres lignes)\n",
        "\n",
        "def convertColumn():\n",
        "    with open(r\"../Data ICM/4_1_23_v3.csv\", 'r') as file:\n",
        "        csvreader = csv.reader(file)\n",
        "        X = [[] for i in range(37)]\n",
        "        k = 0\n",
        "        for row in csvreader:\n",
        "            if (k>0):\n",
        "                for i in range(37):\n",
        "                    if row[i] != '':\n",
        "                        X[i].append(float(row[i]))\n",
        "            k=1\n",
        "        return X\n",
        "\n",
        "def filterSignal(column, wc, freq_ech): # Retourne le signal filtré par un passe-bas parfait à wcHz. L'indice de colonne est à prendre entre 2 et 33\n",
        "    Fs = freq_ech                         # sampling rate\n",
        "    Ts = 1.0/Fs\n",
        "    t = np.arange(0,180,Ts)\n",
        "    y = convertColumn()[column][:90000]\n",
        "    \n",
        "    #Original signal\n",
        "    plt.subplot(3,1,1)\n",
        "    plt.plot(t,y,'k-')\n",
        "    plt.xlabel('time')\n",
        "    plt.ylabel('amplitude')\n",
        "    \n",
        "    #FFT Transform cutted to 15Hz\n",
        "    plt.subplot(3,1,2)\n",
        "    n = len(y)  # length of the signal\n",
        "    k = np.arange(n)\n",
        "    T = n/Fs\n",
        "    frq = k/T # two sides frequency range\n",
        "    freq = frq[range(n//2)]  # one side frequency range\n",
        "    \n",
        "    #Filtrage des harmonique par un passe-bas parfait à 15Hz.\n",
        "    cut_nb = int(wc/freq[1]) # Passe-bas parfait\n",
        "    Y = np.fft.fft(y)/n # fft computing and normalization\n",
        "    Y = Y[range(n//2)]\n",
        "    plt.plot(freq[:cut_nb+1], abs(Y)[:cut_nb+1], 'r-')\n",
        "    plt.xlim(0,15)\n",
        "    plt.ylim(0,20)\n",
        "    for i in range(cut_nb+1,len(Y)):\n",
        "        Y[i] = 0\n",
        "    plt.xlabel('freq (Hz)')\n",
        "    plt.ylabel('|Y(freq)|')\n",
        "    \n",
        "    #FFT Inverse\n",
        "    plt.subplot(3,1,3)\n",
        "    Z = np.fft.ifft(Y)*n\n",
        "    Z = Z[range(n//2)]\n",
        "    plt.plot(Z)\n",
        "    plt.show()\n",
        "    return Z\n",
        "\n",
        "filterSignal(33, 15, 500)"
      ],
      "metadata": {
        "id": "39SU8X_QlMn4"
      },
      "execution_count": null,
      "outputs": []
    }
  ]
}